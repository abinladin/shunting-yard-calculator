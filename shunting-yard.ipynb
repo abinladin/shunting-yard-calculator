{
 "cells": [
  {
   "cell_type": "markdown",
   "metadata": {},
   "source": [
    "# Shunting Yard Calculator\n",
    "## Introduction\n",
    "\n",
    "This notebook serves to more intuitively explain the code in ```main.py```, The initial python script I wrote for this exercise. \n",
    "\n",
    "The program queries the user for a math expression to evaluate. It supports five operators: +, -, *, /, and *.\n",
    "\n",
    "The diagram below explains the purpose of each function:\n",
    "![Alt text](./mermaid-diagram-2023-09-26-223147.png)\n",
    "\n",
    "- The ```tokenizer``` takes the user input string and converts it to a list of tokens. A token is either a number or an operator.\n",
    "- The ```shunting_yard``` algorithm converts infix notation to postfix notation (reverse polish notation). For example, [$1 + 1$] becomes [$1$ $1$ $+$]. This removes the need for parenthesis."
   ]
  },
  {
   "cell_type": "code",
   "execution_count": 4,
   "metadata": {},
   "outputs": [
    {
     "ename": "TypeError",
     "evalue": "tokenizer() missing 1 required positional argument: 'operator_list'",
     "output_type": "error",
     "traceback": [
      "\u001b[0;31m---------------------------------------------------------------------------\u001b[0m",
      "\u001b[0;31mTypeError\u001b[0m                                 Traceback (most recent call last)",
      "\u001b[1;32m/Users/abinladin/dev/shunting-yard-calculator/shunting-yard.ipynb Cell 2\u001b[0m line \u001b[0;36m1\n\u001b[1;32m     <a href='vscode-notebook-cell:/Users/abinladin/dev/shunting-yard-calculator/shunting-yard.ipynb#W2sZmlsZQ%3D%3D?line=13'>14</a>\u001b[0m     tokenized_list\u001b[39m.\u001b[39mappend(token_builder)\n\u001b[1;32m     <a href='vscode-notebook-cell:/Users/abinladin/dev/shunting-yard-calculator/shunting-yard.ipynb#W2sZmlsZQ%3D%3D?line=14'>15</a>\u001b[0m     \u001b[39mreturn\u001b[39;00m tokenized_list\n\u001b[0;32m---> <a href='vscode-notebook-cell:/Users/abinladin/dev/shunting-yard-calculator/shunting-yard.ipynb#W2sZmlsZQ%3D%3D?line=16'>17</a>\u001b[0m tokenizer(\u001b[39m\"\u001b[39;49m\u001b[39m3 * 2 - 1\u001b[39;49m\u001b[39m\"\u001b[39;49m)\n",
      "\u001b[0;31mTypeError\u001b[0m: tokenizer() missing 1 required positional argument: 'operator_list'"
     ]
    }
   ],
   "source": [
    "# TODO: account for floating point numbers and negative numbers\n",
    "def tokenizer(user_input: str, operator_list: list) -> list:\n",
    "    token_builder = \"\"\n",
    "    tokenized_list = []\n",
    "    for char in user_input:\n",
    "        if char.isdigit():\n",
    "            token_builder += char\n",
    "        elif char in operator_list:\n",
    "            tokenized_list.append(token_builder)\n",
    "            tokenized_list.append(char)\n",
    "            token_builder = \"\"\n",
    "        else:\n",
    "            continue\n",
    "    tokenized_list.append(token_builder)\n",
    "    return tokenized_list"
   ]
  },
  {
   "cell_type": "code",
   "execution_count": 2,
   "metadata": {},
   "outputs": [],
   "source": [
    "def shunting_yard(tokenized_expression: list, operator_precedence: dict):\n",
    "    output = []\n",
    "    operator_stack = []\n",
    "\n",
    "    opening_parenthesis_counter = 0\n",
    "    closing_parenthesis_counter = 0\n",
    "\n",
    "    for token in tokenized_expression:\n",
    "        if token.isdigit():\n",
    "            output.append(token)\n",
    "        elif token == '(':\n",
    "            opening_parenthesis_counter += 1\n",
    "            operator_stack.append(token)\n",
    "        elif token == ')':\n",
    "            closing_parenthesis_counter += 1\n",
    "            while operator_stack and operator_stack[-1] != \"(\":\n",
    "                output.append(operator_stack.pop())\n",
    "            operator_stack.pop()\n",
    "        elif token in operator_precedence.keys():\n",
    "            while operator_stack and operator_precedence[token] <= operator_precedence[operator_stack[-1]] and operator_stack[-1] != '(':\n",
    "                output.append(operator_stack.pop())\n",
    "            operator_stack.append(token)\n",
    "        else:\n",
    "            continue\n",
    "\n",
    "    while operator_stack:\n",
    "        output.append(operator_stack.pop())\n",
    "\n",
    "    if opening_parenthesis_counter != closing_parenthesis_counter:\n",
    "        print(\"warning: parenthesis mismatch detected\")\n",
    "\n",
    "    return output"
   ]
  },
  {
   "cell_type": "code",
   "execution_count": 3,
   "metadata": {},
   "outputs": [],
   "source": [
    "def rpn_evaluate(expression: list):\n",
    "    for token in expression[:]:\n",
    "        if not (token.isdigit()):\n",
    "            token_index = expression.index(token)\n",
    "\n",
    "            if token == '+':\n",
    "                expression[token_index-2] = float(expression[token_index-2]) + float(expression[token_index-1])\n",
    "            if token == '-':\n",
    "                expression[token_index-2] = float(expression[token_index-2]) - float(expression[token_index-1])\n",
    "            if token == '*':\n",
    "                expression[token_index - 2] = float(expression[token_index - 2]) * float(expression[token_index - 1])\n",
    "            if token == '/':\n",
    "                if float(expression[token_index - 1]) == 0:\n",
    "                    print(\"[ERROR] ignoring division by zero, result will be incorrect\")\n",
    "                    print(\"RPN: \" + str(expression))\n",
    "                    continue\n",
    "                expression[token_index - 2] = float(expression[token_index - 2]) / float(expression[token_index - 1])\n",
    "            if token == '^':\n",
    "                expression[token_index - 2] = float(expression[token_index - 2]) ** float(expression[token_index - 1])\n",
    "\n",
    "            expression.pop(token_index)\n",
    "            expression.pop(token_index-1)\n",
    "\n",
    "    return expression[0]"
   ]
  }
 ],
 "metadata": {
  "kernelspec": {
   "display_name": ".venv",
   "language": "python",
   "name": "python3"
  },
  "language_info": {
   "codemirror_mode": {
    "name": "ipython",
    "version": 3
   },
   "file_extension": ".py",
   "mimetype": "text/x-python",
   "name": "python",
   "nbconvert_exporter": "python",
   "pygments_lexer": "ipython3",
   "version": "3.9.6"
  },
  "orig_nbformat": 4
 },
 "nbformat": 4,
 "nbformat_minor": 2
}
